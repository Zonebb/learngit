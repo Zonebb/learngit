{
 "cells": [
  {
   "cell_type": "markdown",
   "metadata": {},
   "source": [
    "字符串\n",
    "-转义字符\n",
    "-格式化\n",
    "-内建函数\n",
    "##转义字符\n",
    "-用一个特殊的方法表示出一系列不方便写出的内容，比如回车键，换行键，退格键\n",
    "-借助反斜杠字符，一旦字符中出现反斜杠，则反斜杠后面一个或几个字符表示已经不是原来的意思了，进行了转义\n",
    "-在字符串中，一旦出现反斜杠要加倍小心，可能由转义字符出现\n",
    "  -windows:\\n\n",
    "  -Linux:\\r\\n"
   ]
  },
  {
   "cell_type": "code",
   "execution_count": 15,
   "metadata": {},
   "outputs": [
    {
     "name": "stdout",
     "output_type": "stream",
     "text": [
      "let's go\n",
      "let's go\n",
      "c:\\user\n",
      "i love \r\n",
      " lowbb\n"
     ]
    }
   ],
   "source": [
    "#如果想表示出来let's go\n",
    "#1、可以使用嵌套引导，则外层使用双引号\n",
    "#2、转义字符\n",
    "s=\"let's go\"\n",
    "print(s)\n",
    "\n",
    "ss='let\\'s go'\n",
    "print(ss)\n",
    "\n",
    "#下面的\\\\进行了转义\n",
    "sss=\"c:\\\\user\"\n",
    "print(sss)\n",
    "\n",
    "#回车换行符\n",
    "sd='i love \\r\\n lowbb'\n",
    "print(sd)"
   ]
  },
  {
   "cell_type": "markdown",
   "metadata": {},
   "source": [
    "###字符串的格式化\n",
    "-把字符串按照一定格式打印或填充\n",
    "-格式化两种方法\n",
    "   -利用%\n",
    "   -利用format函数\n"
   ]
  },
  {
   "cell_type": "code",
   "execution_count": 8,
   "metadata": {},
   "outputs": [],
   "source": [
    "s=\"xxx你好，我们图灵学院，免费的python呀，不学白不学，学了也白学。\""
   ]
  },
  {
   "cell_type": "markdown",
   "metadata": {},
   "source": [
    "###利用百分号格式化\n",
    "-在字符串中，利用%表示一个特殊含义，表示对字符进行格式化\n",
    "-%d：此处应该放入一个整数\n",
    "-%s：表示此处应该放入一个字符串"
   ]
  },
  {
   "cell_type": "code",
   "execution_count": 16,
   "metadata": {
    "scrolled": true
   },
   "outputs": [
    {
     "name": "stdout",
     "output_type": "stream",
     "text": [
      "i love %s\n"
     ]
    }
   ],
   "source": [
    "s=\"i love %s\"\n",
    "#下面打印，直接把%s打印出来了\n",
    "print(s)"
   ]
  },
  {
   "cell_type": "code",
   "execution_count": 17,
   "metadata": {},
   "outputs": [
    {
     "name": "stdout",
     "output_type": "stream",
     "text": [
      "i love lowbb\n"
     ]
    }
   ],
   "source": [
    "print(\"i love %s\" %\"lowbb\")"
   ]
  },
  {
   "cell_type": "code",
   "execution_count": 19,
   "metadata": {},
   "outputs": [
    {
     "name": "stdout",
     "output_type": "stream",
     "text": [
      "i love lowbb\n"
     ]
    }
   ],
   "source": [
    "print(s%\"lowbb\")"
   ]
  },
  {
   "cell_type": "code",
   "execution_count": 20,
   "metadata": {},
   "outputs": [
    {
     "name": "stdout",
     "output_type": "stream",
     "text": [
      "I am 18 years old\n"
     ]
    }
   ],
   "source": [
    "s=\"I am %d years old\"\n",
    "age=18\n",
    "print(s%age)"
   ]
  },
  {
   "cell_type": "code",
   "execution_count": 26,
   "metadata": {},
   "outputs": [
    {
     "name": "stdout",
     "output_type": "stream",
     "text": [
      "I am %s,i am %d years old\n",
      "I am zonebb,i am 18 years old\n"
     ]
    }
   ],
   "source": [
    "s=\"I am %s,i am %d years old\"\n",
    "age=18\n",
    "#如果字符串理由几个%，则要跟几个实际内容代替，或者一个也不要,并且用括号把他括起来\n",
    "print(s)\n",
    "print(s%(\"zonebb\",age))"
   ]
  },
  {
   "cell_type": "markdown",
   "metadata": {},
   "source": [
    "###format函数格式化字符串\n",
    "-推荐用format函数进行格式化\n",
    "-在使用上，一{}和：代替%，后面用format带参数完成"
   ]
  },
  {
   "cell_type": "code",
   "execution_count": 29,
   "metadata": {},
   "outputs": [
    {
     "name": "stdout",
     "output_type": "stream",
     "text": [
      "i love lowbb\n",
      "Yes,i am 18 years old,i love lowbb and I am 18 years old\n"
     ]
    }
   ],
   "source": [
    "s=\"i love {}\".format(\"lowbb\")\n",
    "print(s)\n",
    "#format函数可以进行编号，更方便\n",
    "s=\"Yes,i am {1} years old,i love {0} and I am {1} years old\".format(\"lowbb\",\"18\")\n",
    "print(s)"
   ]
  },
  {
   "cell_type": "markdown",
   "metadata": {},
   "source": [
    "##None \n",
    "-表示什么都没有\n",
    "-如果函数没有返回值，可以返回None\n",
    "-用来占位置\n",
    "-用来接触变量的绑定"
   ]
  },
  {
   "cell_type": "markdown",
   "metadata": {},
   "source": [
    "###表达式\n",
    "-由一个或者几个数字或者变量和运算符组合成一行代码\n",
    "-通常会返回一个结果\n",
    "# 运算符(python没有自增减运算符）\n",
    "- 由一个或以上的值经过变化得到新的值得过程交运算\n",
    "- 运算符分类：\n",
    "   - 算数运算符\n",
    "   - 比较或者关系运算符\n",
    "   - 赋值运算符\n",
    "   - 位运算\n",
    "   - 成员运算符\n",
    "   - 身份运算符\n",
    "   - 逻辑运算符"
   ]
  },
  {
   "cell_type": "code",
   "execution_count": 32,
   "metadata": {},
   "outputs": [
    {
     "name": "stdout",
     "output_type": "stream",
     "text": [
      "1\n",
      "2\n",
      "6561\n"
     ]
    }
   ],
   "source": [
    "# +，-跟正常算数一模一样\n",
    "#乘号用*带替\n",
    "#除号用斜杠/代替（python2中除号出的结果跟python3不一样，2中/取整，3中/是数学意义上的）\n",
    "\n",
    "#%取余运算\n",
    "a=9%4\n",
    "print(a)\n",
    "\n",
    "#取整 //\n",
    "b=9//4\n",
    "print(b)\n",
    "\n",
    "#**指数运算\n",
    "a=9**4\n",
    "print(a)\n",
    "\n"
   ]
  },
  {
   "cell_type": "markdown",
   "metadata": {},
   "source": [
    "# 比较运算符\n",
    "- 对两个变量或者值进行比较的运算符\n",
    "- 比较运算符比较的结果是布尔值，即True/False"
   ]
  },
  {
   "cell_type": "code",
   "execution_count": 39,
   "metadata": {},
   "outputs": [
    {
     "name": "stdout",
     "output_type": "stream",
     "text": [
      "81\n",
      "False\n"
     ]
    }
   ],
   "source": [
    "# ==，等于号\n",
    "d=3**4\n",
    "print(d)\n",
    "f=a==80\n",
    "print(f)\n",
    "#>大于  <小于 >=大于等于 <=小于等于"
   ]
  },
  {
   "cell_type": "markdown",
   "metadata": {},
   "source": [
    "# 赋值运算符"
   ]
  },
  {
   "cell_type": "code",
   "execution_count": 41,
   "metadata": {},
   "outputs": [
    {
     "name": "stdout",
     "output_type": "stream",
     "text": [
      "7\n"
     ]
    }
   ],
   "source": [
    "#=，赋值\n",
    "a=0\n",
    "c=4\n",
    "#+=,是缩写\n",
    "a+=7  #a=a+7 的缩写\n",
    "print(a)\n",
    "\n",
    "#所有运算符都有缩写，-=,*=,/=,//=,%=,**="
   ]
  },
  {
   "cell_type": "markdown",
   "metadata": {},
   "source": [
    "# 逻辑运算符\n",
    "- 对布尔值进行计算的符号\n",
    "- and 逻辑与\n",
    "- or 逻辑或\n",
    "- not 逻辑非\n",
    "- Python中没有异或运算\n",
    "- 运算规则：\n",
    "   - and看做乘法，or看做加法，True看做1，False看做0\n",
    "   - 则逻辑运算就能转换成数学运算\n",
    "   - 最后结果是0则为False，否则为True\n",
    "- 逻辑运算的短路问题\n",
    "    - 逻辑运算式，按照运算顺序计算，一旦能够确定整个式子未来的值，则不再进行计算，直接返回"
   ]
  },
  {
   "cell_type": "markdown",
   "metadata": {},
   "source": [
    "# 位运算\n",
    "   - Python中的按位运算符有：左移运算符（<<），右移运算符（>>）,按位与（&），按位或（|），按位翻转（～）。这些运算符中只有按位翻转运算符是单目运算符，其他的都是双目运算符。\n"
   ]
  },
  {
   "cell_type": "code",
   "execution_count": 45,
   "metadata": {},
   "outputs": [
    {
     "name": "stdout",
     "output_type": "stream",
     "text": [
      "True\n",
      "False\n"
     ]
    }
   ],
   "source": [
    "#逻辑运算符的案例\n",
    "a=True\n",
    "b=False\n",
    "c=True\n",
    "\n",
    "#一下式子等价于d=1*0+1\n",
    "d=a and b or c\n",
    "print(d)\n",
    "\n",
    "#以下式子等价于d=1*0*1\n",
    "d=a and b and c\n",
    "print(d)\n"
   ]
  },
  {
   "cell_type": "code",
   "execution_count": 49,
   "metadata": {},
   "outputs": [
    {
     "ename": "SyntaxError",
     "evalue": "invalid syntax (<ipython-input-49-008b1ad2bf9a>, line 8)",
     "output_type": "error",
     "traceback": [
      "\u001b[1;36m  File \u001b[1;32m\"<ipython-input-49-008b1ad2bf9a>\"\u001b[1;36m, line \u001b[1;32m8\u001b[0m\n\u001b[1;33m    a=a or (b=9) and 6\u001b[0m\n\u001b[1;37m             ^\u001b[0m\n\u001b[1;31mSyntaxError\u001b[0m\u001b[1;31m:\u001b[0m invalid syntax\n"
     ]
    }
   ],
   "source": [
    "# 逻辑运算的短路案例\n",
    "\n",
    "#下面的逻辑表达式，a的值一定是True，则运行到or时，整个表达式不再向下计算\n",
    "a= True or xxx\n",
    "\n",
    "#下面表达式，如果xxx中包含赋值表达式，则结果很难预期\n",
    "b=9\n",
    "a=a or (b=9) and 6\n",
    "#假定上面表达式如果没有语法错误\n",
    "#则b最终的值应该是0而不是9\n",
    "\n",
    "print(b)\n",
    "print(a)\n"
   ]
  },
  {
   "cell_type": "markdown",
   "metadata": {},
   "source": [
    "# 成员运算符\n",
    "- 用来检测某一个变量是否是另一个变量的成员\n",
    "- in\n",
    "- not in"
   ]
  },
  {
   "cell_type": "code",
   "execution_count": 51,
   "metadata": {},
   "outputs": [
    {
     "name": "stdout",
     "output_type": "stream",
     "text": [
      "False\n"
     ]
    }
   ],
   "source": [
    "#案例\n",
    "l=[1,2,3,4,5]\n",
    "a=7\n",
    "b=a in l\n",
    "print(b)"
   ]
  },
  {
   "cell_type": "markdown",
   "metadata": {},
   "source": [
    "# 身份运算\n",
    "- is ：用来检测两个变量是不是同一个变量\n",
    "    - 语法就是 var1 is var2\n",
    "- is not：不是同一个变量"
   ]
  },
  {
   "cell_type": "code",
   "execution_count": 54,
   "metadata": {},
   "outputs": [
    {
     "name": "stdout",
     "output_type": "stream",
     "text": [
      "True\n",
      "False\n"
     ]
    }
   ],
   "source": [
    "a=9\n",
    "b=9\n",
    "print(a is b)\n",
    "\n",
    "a=\"i love loebb\"\n",
    "b=\"i love loebb\"\n",
    "print(a is b)"
   ]
  },
  {
   "cell_type": "markdown",
   "metadata": {},
   "source": [
    "## 运算符的优先级问题\n",
    "- 永远记住，括号具有最高优先级\n",
    "- 优先级表格（自己找）"
   ]
  },
  {
   "cell_type": "markdown",
   "metadata": {},
   "source": [
    "# 程序结构\n",
    "- 顺序\n",
    "- 分支\n",
    "- 循环"
   ]
  },
  {
   "cell_type": "code",
   "execution_count": null,
   "metadata": {},
   "outputs": [],
   "source": []
  }
 ],
 "metadata": {
  "kernelspec": {
   "display_name": "Python 3",
   "language": "python",
   "name": "python3"
  },
  "language_info": {
   "codemirror_mode": {
    "name": "ipython",
    "version": 3
   },
   "file_extension": ".py",
   "mimetype": "text/x-python",
   "name": "python",
   "nbconvert_exporter": "python",
   "pygments_lexer": "ipython3",
   "version": "3.6.4"
  }
 },
 "nbformat": 4,
 "nbformat_minor": 2
}

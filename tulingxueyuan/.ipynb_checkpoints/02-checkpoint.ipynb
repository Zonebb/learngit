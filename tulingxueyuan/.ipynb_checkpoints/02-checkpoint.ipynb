{
 "cells": [
  {
   "cell_type": "markdown",
   "metadata": {},
   "source": [
    "1、github和blog的东西决定你的深度和广度\n",
    "2、注释\n",
    "机器是不会执行的\n",
    "注释写法：\n",
    "1.行注释：以#开头，可以单独行也可以在代码后边写；\n",
    "2.块注释：三个'''开始 '''结束（在notebook里面当字符串去执行了）\n"
   ]
  },
  {
   "cell_type": "code",
   "execution_count": 4,
   "metadata": {},
   "outputs": [
    {
     "name": "stdout",
     "output_type": "stream",
     "text": [
      "hello world\n"
     ]
    },
    {
     "data": {
      "text/plain": [
       "'这个跟代码没关系'"
      ]
     },
     "execution_count": 4,
     "metadata": {},
     "output_type": "execute_result"
    }
   ],
   "source": [
    "#1解释给人看\n",
    "#注释是给人看的\n",
    "print(\"hello world\")\n",
    "'''这个跟代码没关系'''"
   ]
  },
  {
   "cell_type": "markdown",
   "metadata": {},
   "source": [
    "#变量\n",
    "1.程序=数据结构+算法\n",
    "2.变量就是可以重复使用的一个量，或者叫一个代号\n",
    "3.变量命名的规则\n",
    "（1）变量命名可以包含数字、大小写字母、下划线或者更多，但是不推荐前三种以外的符号\n",
    "（2）数字不可以开头\n",
    "     4man是不可以的\n",
    "（3）一般在python中，以下划线开头的内容具有特殊含义，不建议使用\n",
    "     比如_age,_name等等\n",
    "（4）大小写不一样，俗称大小写敏感\n",
    "     Forman和forman不一样\n",
    "（5）推荐\n",
    "     使用具有固定含义的英文单词或者缩写\n",
    "     驼峰命名法\n",
    "     -大驼峰，每个单词第一个字母均大写（一般给类命名）\n",
    "     -小驼峰，类似大驼峰，但第一个字母小写（在python中一般给普通变量和函数命名）\n",
    "     -posix写法，多个单词之间用下划线连接，单词全部小写，如my_first_love；\n",
    "保留字和关键字\n",
    "-变量命名必须避开，不能跟关键字和保留字重复\n",
    "-class，def，break，for（关键字）     \n"
   ]
  },
  {
   "cell_type": "code",
   "execution_count": 7,
   "metadata": {},
   "outputs": [
    {
     "name": "stdout",
     "output_type": "stream",
     "text": [
      "['False', 'None', 'True', 'and', 'as', 'assert', 'break', 'class', 'continue', 'def', 'del', 'elif', 'else', 'except', 'finally', 'for', 'from', 'global', 'if', 'import', 'in', 'is', 'lambda', 'nonlocal', 'not', 'or', 'pass', 'raise', 'return', 'try', 'while', 'with', 'yield']\n"
     ]
    }
   ],
   "source": [
    "#查看关键字的方法\n",
    "import keyword #引入关键字模块\n",
    "#打印出系统全部的关键字\n",
    "print(keyword.kwlist)"
   ]
  },
  {
   "cell_type": "markdown",
   "metadata": {},
   "source": [
    "#变量声明\n",
    "-var_name=var_name\n",
    "-var1=var2=var3=var_name（从右往左读）\n",
    "-var1,var2,var3=v1,v2,v3\n"
   ]
  },
  {
   "cell_type": "code",
   "execution_count": 12,
   "metadata": {},
   "outputs": [
    {
     "name": "stdout",
     "output_type": "stream",
     "text": [
      "18\n",
      "18\n",
      "18\n",
      "18\n",
      "18\n",
      "12\n",
      "45\n",
      "87\n"
     ]
    }
   ],
   "source": [
    "age=18\n",
    "print(age)\n",
    "print(18)\n",
    "#给age1，age2,age3放入同样的一个内容或值\n",
    "age1=age2=age3=18\n",
    "print(age1)\n",
    "print(age2)\n",
    "print(age3)\n",
    "age4,age5,age6=12,45,87\n",
    "print(age4)\n",
    "print(age5)\n",
    "print(age6)"
   ]
  },
  {
   "cell_type": "markdown",
   "metadata": {},
   "source": [
    "##变量类型\n",
    "-严格意义上讲，python只有一个类型\n",
    "-标准数据一共六种\n",
    "   -数字类型Number\n",
    "   -字符串类型str\n",
    "   -列表list\n",
    "   -元祖tuple\n",
    "   -字典Dictionary\n",
    "   -集合set"
   ]
  },
  {
   "cell_type": "markdown",
   "metadata": {},
   "source": [
    "##Number数字类型（没有大小限制）\n",
    "1整数\n",
    "  -没有小数部分，表示个数的数字\n",
    "  -自然数，0，负自然数\n",
    "  -整数分进制（常见二进制（计算机常用、是计算机唯一能直接理解的数字，如01,0b0001），八进制（不常用，以0o开头的包含0-7的数字），十六进制（逢十六进一，其实是每四位二进制表示一位十六进制数，包含0-9，a-f。。数字上以0x开头表示），最常见十进制（18,76...）） "
   ]
  },
  {
   "cell_type": "code",
   "execution_count": 21,
   "metadata": {},
   "outputs": [
    {
     "name": "stdout",
     "output_type": "stream",
     "text": [
      "11\n",
      "18\n",
      "255\n"
     ]
    }
   ],
   "source": [
    "age=0b1011\n",
    "print(age)\n",
    "b=0o22\n",
    "print(b)\n",
    "c=0xff\n",
    "print(c)"
   ]
  },
  {
   "cell_type": "markdown",
   "metadata": {},
   "source": [
    "浮点数\n",
    "-小数\n",
    "-计算机里表示浮点数可以有条件省略（即可以.5表示0.5）\n",
    "-科学计数法\n",
    "  -定义跟数学定义\n",
    "  -写法是用e/E后面跟整数表示10的指数\n",
    "     -176.23==176234e2\n",
    "     -0.876==8.76e-1"
   ]
  },
  {
   "cell_type": "code",
   "execution_count": 25,
   "metadata": {},
   "outputs": [
    {
     "name": "stdout",
     "output_type": "stream",
     "text": [
      "135.12\n",
      "0.2\n",
      "0.6\n"
     ]
    }
   ],
   "source": [
    "weight=135.12\n",
    "print(weight)\n",
    "shill=0.2\n",
    "print(shill)\n",
    "shill=.6\n",
    "print(shill)"
   ]
  },
  {
   "cell_type": "markdown",
   "metadata": {},
   "source": [
    "###复数\n",
    "-定义跟数学一致\n",
    "-一个实部和一个虚部构成的数字\n",
    "-虚部用j/J表示\n",
    "-5+3j或者5+3J\n",
    "-3j\n",
    "-（3j）"
   ]
  },
  {
   "cell_type": "markdown",
   "metadata": {},
   "source": [
    "###布尔值\n",
    "-表示真假的值\n",
    "-只有这两个值，True/False\n",
    "-布尔值可以跟数字直接操作"
   ]
  },
  {
   "cell_type": "code",
   "execution_count": 29,
   "metadata": {},
   "outputs": [
    {
     "name": "stdout",
     "output_type": "stream",
     "text": [
      "19\n"
     ]
    }
   ],
   "source": [
    "#布尔值操作\n",
    "age=18+True\n",
    "print(age)"
   ]
  },
  {
   "cell_type": "markdown",
   "metadata": {},
   "source": [
    "#字符串\n",
    "-用来表示一串文字信息\n",
    "  -单引号\n",
    "  -双引号\n",
    "  -三引号（三个单引号或三个双引号）\n",
    "  能够扩起多行信息\n",
    "  -单双引号可以交替使用"
   ]
  },
  {
   "cell_type": "code",
   "execution_count": 38,
   "metadata": {},
   "outputs": [
    {
     "name": "stdout",
     "output_type": "stream",
     "text": [
      "i love 劳丹丹\n",
      "a style=\"color:red\">哈哈哈</a>\n",
      "i love 劳丹丹\n",
      "   哈哈哈哈\n",
      "   红红火火恍恍惚惚\n"
     ]
    }
   ],
   "source": [
    "love='i love 劳丹丹'\n",
    "print(love)\n",
    "#单双引号交替使用的例子\n",
    "#<a style=“color:red”>哈哈哈</a>\n",
    "#用引号表示上面的字符串\n",
    "html='a style=\"color:red\">哈哈哈</a>'\n",
    "print(html)\n",
    "htmls='''i love 劳丹丹\n",
    "   哈哈哈哈\n",
    "   红红火火恍恍惚惚'''\n",
    "print(htmls)"
   ]
  }
 ],
 "metadata": {
  "kernelspec": {
   "display_name": "Python 3",
   "language": "python",
   "name": "python3"
  },
  "language_info": {
   "codemirror_mode": {
    "name": "ipython",
    "version": 3
   },
   "file_extension": ".py",
   "mimetype": "text/x-python",
   "name": "python",
   "nbconvert_exporter": "python",
   "pygments_lexer": "ipython3",
   "version": "3.6.4"
  }
 },
 "nbformat": 4,
 "nbformat_minor": 2
}

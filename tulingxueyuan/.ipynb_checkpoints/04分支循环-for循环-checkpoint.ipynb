{
 "cells": [
  {
   "cell_type": "markdown",
   "metadata": {},
   "source": [
    "# 三大结构\n",
    "1 顺序\n",
    "2 分支\n",
    "3 循环\n",
    "\n",
    "# 分支\n",
    "- 语法：if 条件表达式:\n",
    "       语句1\n",
    "       语句2\n",
    "       ...（用一个水平的缩进表示一个块）\n",
    "- 条件表达式：计算结果必须为布尔值的表达式\n",
    "- 表达式后面冒号不能少\n",
    "- 注意if后面出现的语句，如果属于if语句块，则必须同一个缩进等级\n",
    "- 条件表达式结果为True执行if后面的缩进语句块\n",
    "\n",
    "\n"
   ]
  },
  {
   "cell_type": "code",
   "execution_count": 4,
   "metadata": {},
   "outputs": [
    {
     "name": "stdout",
     "output_type": "stream",
     "text": [
      "去叫家长，孩子\n",
      "我们不带你玩\n",
      "滚犊子\n"
     ]
    }
   ],
   "source": [
    "# if语句联系\n",
    "#如果age小于18岁，则打印“去叫家长”\n",
    "age = 17\n",
    "if age<18:\n",
    "    print(\"去叫家长，孩子\")\n",
    "    print(\"我们不带你玩\")\n",
    "    print(\"滚犊子\")"
   ]
  },
  {
   "cell_type": "code",
   "execution_count": 7,
   "metadata": {},
   "outputs": [
    {
     "name": "stdout",
     "output_type": "stream",
     "text": [
      "开始上课啦，老司机们\n"
     ]
    }
   ],
   "source": [
    "# if语句联系\n",
    "#如果age小于18岁，则打印“去叫家长”\n",
    "age = 19\n",
    "if age<18:\n",
    "    print(\"去叫家长，孩子\")\n",
    "    print(\"我们不带你玩\")\n",
    "    print(\"滚犊子\")\n",
    "    \n",
    "print(\"开始上课啦，老司机们\")    "
   ]
  },
  {
   "cell_type": "markdown",
   "metadata": {},
   "source": [
    "###  双向分支\n",
    "- if...else..语句\n",
    "          \n",
    "          if 条件表达式：\n",
    "             语句1\n",
    "             语句2\n",
    "             ...\n",
    "          else：\n",
    "             语句1\n",
    "             语句2\n",
    "             ...\n",
    "- 双向分支有两个分支，当程序执行if...else...语句时，一定会执行if或者else中的一个，业仅仅执行一个\n",
    "- 锁紧问题，if和else一个层级，其余语句一个层"
   ]
  },
  {
   "cell_type": "code",
   "execution_count": 20,
   "metadata": {},
   "outputs": [
    {
     "name": "stdout",
     "output_type": "stream",
     "text": [
      "请输入性别：nan\n",
      "你输入的性别是：nan\n",
      "今天开始讲for循环\n",
      "开始上课啦\n"
     ]
    }
   ],
   "source": [
    "gender = input('请输入性别：')\n",
    "print(\"你输入的性别是：{0}\". format(gender))\n",
    "if gender == '女':\n",
    "    print(\"来，叔叔给你糖吃\")\n",
    "else:\n",
    "    print(\"今天开始讲for循环\")\n",
    "print('开始上课啦')"
   ]
  },
  {
   "cell_type": "code",
   "execution_count": 21,
   "metadata": {},
   "outputs": [],
   "source": [
    "#考试成绩判断\n",
    "# 90以上：输出优秀\n",
    "#80-90 ：良好\n",
    "# 70-80：中\n",
    "# 60-70：平\n",
    "# 60以下：我没你这样的学生"
   ]
  },
  {
   "cell_type": "code",
   "execution_count": 23,
   "metadata": {},
   "outputs": [
    {
     "name": "stdout",
     "output_type": "stream",
     "text": [
      "请输入学生成绩：91\n",
      "A\n"
     ]
    }
   ],
   "source": [
    "# score  存放学生成绩\n",
    "score = input(\"请输入学生成绩：\")\n",
    "# 输入的是字符串，需要把字符串转换成数字\n",
    "score = int(score)\n",
    "\n",
    "if score>=90:\n",
    "    print(\"A\")\n",
    "if score>=80 and score<90:\n",
    "    print(\"B\")\n",
    "if score>=70 and score<80:\n",
    "    print(\"C\")\n",
    "if score>=60 and score<70:\n",
    "    print(\"D\")\n",
    "if score<60:\n",
    "    print(\"起开，我没你这种学生\")"
   ]
  },
  {
   "cell_type": "markdown",
   "metadata": {},
   "source": [
    "# 多路分支\n",
    "- 很多分支的情况，简称多路分支\n",
    "       if 条件表达式：\n",
    "         语句1\n",
    "       elif 条件表达式：\n",
    "         语句1\n",
    "       elif 条件表达式：\n",
    "         语句1\n",
    "       ...\n",
    "       else：\n",
    "         语句1\n",
    "         ...\n",
    "- elif 可以有很多个\n",
    "- else 可以没有"
   ]
  },
  {
   "cell_type": "code",
   "execution_count": 27,
   "metadata": {},
   "outputs": [
    {
     "name": "stdout",
     "output_type": "stream",
     "text": [
      "请输入学生成绩：45\n",
      "起开，我没你这种学生\n"
     ]
    }
   ],
   "source": [
    "# score  存放学生成绩\n",
    "score = input(\"请输入学生成绩：\")\n",
    "# 输入的是字符串，需要把字符串转换成数字\n",
    "score = int(score)\n",
    "\n",
    "if score>=90:\n",
    "    print(\"A\")\n",
    "elif score>=80:\n",
    "    print(\"B\")\n",
    "elif score>=70:\n",
    "    print(\"C\")\n",
    "elif score>=60:\n",
    "    print(\"D\")\n",
    "else:\n",
    "    print(\"起开，我没你这种学生\")"
   ]
  },
  {
   "cell_type": "markdown",
   "metadata": {},
   "source": [
    "## if其他语句\n",
    "- if语句可以嵌套使用\n",
    "- python 没有switch，case语句"
   ]
  },
  {
   "cell_type": "markdown",
   "metadata": {},
   "source": [
    "# 循环\n",
    "\n",
    "- 重复执行某些固定动作或者处理基本固定的事物\n",
    "-分类\n",
    "    - for循环\n",
    "    - while循环\n",
    "## for循环\n",
    "- for循环\n",
    "    for 变量 in 序列：\n",
    "        语句1\n",
    "        语句2\n",
    "        ...\n"
   ]
  },
  {
   "cell_type": "code",
   "execution_count": 65,
   "metadata": {},
   "outputs": [
    {
     "name": "stdout",
     "output_type": "stream",
     "text": [
      "张三\n",
      "我的最爱张三出现了\n",
      "李四\n",
      "同学我们不约\n",
      "王五\n",
      "同学我们不约\n"
     ]
    }
   ],
   "source": [
    "# 列表就是一列数字或者其他值，一般用中括号表示\n",
    "# 例如[‘张三’，‘李四’，‘王五’]\n",
    "\n",
    "#打印数字列表的数值\n",
    "for name in ['张三','李四','王五']:\n",
    "    print(name)\n",
    "    if name == \"张三\":\n",
    "        print(\"我的最爱{0}出现了\".format(name))\n",
    "    else:\n",
    "        print(\"同学我们不约\")"
   ]
  },
  {
   "cell_type": "markdown",
   "metadata": {},
   "source": [
    "## range介绍\n",
    "- 生成一个数字序列\n",
    "- 具体范围可以设定"
   ]
  },
  {
   "cell_type": "code",
   "execution_count": 70,
   "metadata": {},
   "outputs": [
    {
     "name": "stdout",
     "output_type": "stream",
     "text": [
      "1\n",
      "2\n",
      "3\n",
      "4\n",
      "5\n",
      "6\n",
      "7\n",
      "8\n",
      "9\n",
      "10\n"
     ]
    }
   ],
   "source": [
    "#range练习\n",
    "# 打印从1-10的数字\n",
    "#注意，一般在range中，如果表示数字范围的两个数，一般是包含左边的数字，不包含右边的数字\n",
    "#randint是特例，左右都包含\n",
    "#range函数在python2和python3中有严重区别\n",
    "for i in range(1,11):\n",
    "    print(i)"
   ]
  },
  {
   "cell_type": "markdown",
   "metadata": {},
   "source": [
    "## for-else语句\n",
    "- 当for循环结束时候，会执行else语句\n"
   ]
  },
  {
   "cell_type": "code",
   "execution_count": 72,
   "metadata": {},
   "outputs": [
    {
     "name": "stdout",
     "output_type": "stream",
     "text": [
      "张三\n",
      "我的最爱张三出现了\n",
      "李四\n",
      "同学我们不约\n",
      "王五\n",
      "同学我们不约\n",
      "别的都不是我的学生，不会再爱了\n"
     ]
    }
   ],
   "source": [
    "#for-else语句\n",
    "#打印列表中的同学\n",
    "#如果没有在列表中，或者列表结束，我们需要打印提示语句，表示不再爱了\n",
    "for name in ['张三','李四','王五']:\n",
    "    print(name)\n",
    "    if name == \"张三\":\n",
    "        print(\"我的最爱{0}出现了\".format(name))\n",
    "    else:\n",
    "        print(\"同学我们不约\")\n",
    "else:\n",
    "    print(\"别的都不是我的学生，不会再爱了\")"
   ]
  },
  {
   "cell_type": "markdown",
   "metadata": {},
   "source": [
    "## for循环之break，continue，pass\n",
    "- break：无条件结束整个循环，简称循环猝死\n",
    "- continue：无条件结束本次循环，从新进入下一轮循环\n",
    "- pass：表示略过"
   ]
  },
  {
   "cell_type": "code",
   "execution_count": 76,
   "metadata": {},
   "outputs": [
    {
     "name": "stdout",
     "output_type": "stream",
     "text": [
      "1\n",
      "2\n",
      "3\n",
      "4\n",
      "5\n",
      "6\n",
      "我找到啦\n"
     ]
    }
   ],
   "source": [
    "#在1-10的数字中，寻找数字7，一旦找到，打印出来，其余则什么都不做\n",
    "#for 循环中的变量表示，一般用i,k,m,n,或者indx,idx,item\n",
    "#在python中，如果循环变量名称不重要，可以用下划线（_）代替\n",
    "for i in range(1,11):\n",
    "    if i == 7:\n",
    "        print(\"我找到啦\")\n",
    "        break\n",
    "    else:\n",
    "        print(i)\n",
    "    "
   ]
  },
  {
   "cell_type": "code",
   "execution_count": 79,
   "metadata": {},
   "outputs": [
    {
     "name": "stdout",
     "output_type": "stream",
     "text": [
      "2是偶数\n",
      "4是偶数\n",
      "6是偶数\n",
      "8是偶数\n",
      "10是偶数\n"
     ]
    }
   ],
   "source": [
    "#continue语句\n",
    "#在1-10的数字中，寻找所有偶数，找到偶数后打印偶数，打印出来，其余则什么都不做\n",
    "\n",
    "for i in range(1,11):\n",
    "    if i % 2 == 1:\n",
    "        continue\n",
    "    else:\n",
    "        print(\"{0}是偶数\".format(i))\n",
    "    "
   ]
  },
  {
   "cell_type": "code",
   "execution_count": 81,
   "metadata": {},
   "outputs": [
    {
     "name": "stdout",
     "output_type": "stream",
     "text": [
      "2是偶数\n",
      "4是偶数\n",
      "6是偶数\n",
      "8是偶数\n",
      "10是偶数\n"
     ]
    }
   ],
   "source": [
    "#continue语句\n",
    "#在1-10的数字中，寻找所有偶数，找到偶数后打印偶数，打印出来，其余则什么都不做\n",
    "\n",
    "for i in range(1,11):\n",
    "    if i % 2 == 0:\n",
    "        print(\"{0}是偶数\".format(i))"
   ]
  },
  {
   "cell_type": "code",
   "execution_count": 82,
   "metadata": {},
   "outputs": [
    {
     "name": "stdout",
     "output_type": "stream",
     "text": [
      "2是偶数\n",
      "4是偶数\n",
      "6是偶数\n",
      "8是偶数\n",
      "10是偶数\n"
     ]
    }
   ],
   "source": [
    "#continue语句\n",
    "#在1-10的数字中，寻找所有偶数，找到偶数后打印偶数，打印出来，其余则什么都不做\n",
    "\n",
    "for i in range(1,11):\n",
    "    if i % 2 == 1:\n",
    "        continue\n",
    "        \n",
    "    print(\"{0}是偶数\".format(i))"
   ]
  },
  {
   "cell_type": "code",
   "execution_count": 85,
   "metadata": {},
   "outputs": [
    {
     "name": "stdout",
     "output_type": "stream",
     "text": [
      "wo zai\n",
      "wo zai\n",
      "wo zai\n",
      "wo zai\n",
      "wo zai\n",
      "wo zai\n",
      "wo zai\n",
      "wo zai\n",
      "wo zai\n",
      "wo zai\n"
     ]
    }
   ],
   "source": [
    "#pass例子，一般用于站位\n",
    "for i in range(1,11):\n",
    "    pass\n",
    "    print(\"wo zai\")\n",
    "    "
   ]
  },
  {
   "cell_type": "code",
   "execution_count": null,
   "metadata": {},
   "outputs": [],
   "source": []
  }
 ],
 "metadata": {
  "kernelspec": {
   "display_name": "Python 3",
   "language": "python",
   "name": "python3"
  },
  "language_info": {
   "codemirror_mode": {
    "name": "ipython",
    "version": 3
   },
   "file_extension": ".py",
   "mimetype": "text/x-python",
   "name": "python",
   "nbconvert_exporter": "python",
   "pygments_lexer": "ipython3",
   "version": "3.6.4"
  }
 },
 "nbformat": 4,
 "nbformat_minor": 2
}
